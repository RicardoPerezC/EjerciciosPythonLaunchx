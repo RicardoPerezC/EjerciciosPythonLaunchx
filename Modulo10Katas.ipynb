{
 "cells": [
  {
   "cell_type": "markdown",
   "metadata": {},
   "source": [
    "<html>\n",
    "<h1>Ricardo Thomas Perez Cancino</h1>\n",
    "<h3>Reporte de ejecución de comandos para el ambiente separado de Python sandboxing:</h3>\n",
    "<hr style=\"width:100%\">\n",
    "<table width=\"100%\">\n",
    "    <th>actividades de tracebacks</th>\n",
    "    <tr><td><img src=\"kata10imgs/tracebacks1.jpg\" alt=\"imagen con los comandos ejecutados en mi pc RTPC\"></td></tr>\n",
    "</table>\n",
    "<hr style=\"width:100%\">\n",
    "<table width=\"100%\">\n",
    "    <th>actividades para controlar excepciones</th>\n",
    "    <tr><td><img src=\"kata10imgs/controlando_exepciones1.jpg\" alt=\"imagen con los comandos ejecutados en mi pc RTPC\"></td></tr>\n",
    "    <tr><td><img src=\"kata10imgs/controlando_exepciones2.jpg\" alt=\"imagen con los comandos ejecutados en mi pc RTPC\"></td></tr>\n",
    "    <tr><td><img src=\"kata10imgs/controlando_exepciones3.jpg\" alt=\"imagen con los comandos ejecutados en mi pc RTPC\"></td></tr>\n",
    "    <tr><td><img src=\"kata10imgs/controlando_exepciones4.jpg\" alt=\"imagen con los comandos ejecutados en mi pc RTPC\"></td></tr>\n",
    "    <tr><td><img src=\"kata10imgs/controlando_exepciones5.jpg\" alt=\"imagen con los comandos ejecutados en mi pc RTPC\"></td></tr>\n",
    "</table>\n",
    "<hr style=\"width:100%\">\n",
    "<table width=\"100%\">\n",
    "    <th>actividades de generacion de excepciones</th>\n",
    "    <tr><td><img src=\"kata10imgs/generacion_exepciones1.jpg\" alt=\"imagen con los comandos ejecutados en mi pc RTPC\"></td></tr>\n",
    "    <tr><td><img src=\"kata10imgs/generacion_exepciones2.jpg\" alt=\"imagen con los comandos ejecutados en mi pc RTPC\"></td></tr>\n",
    "    <tr><td><img src=\"kata10imgs/generacion_exepciones3.jpg\" alt=\"imagen con los comandos ejecutados en mi pc RTPC\"></td></tr>\n",
    "</table>\n",
    "<hr style=\"width:100%\">\n",
    "<br>\n",
    "</html>"
   ]
  }
 ],
 "metadata": {
  "interpreter": {
   "hash": "334bca2f96779d3987b7ca601bc6420dd9d772670df5bc915f81c87e9e1c4b9f"
  },
  "kernelspec": {
   "display_name": "Python 3.9.10 ('.venv': venv)",
   "language": "python",
   "name": "python3"
  },
  "language_info": {
   "name": "python",
   "version": "3.9.10"
  },
  "orig_nbformat": 4
 },
 "nbformat": 4,
 "nbformat_minor": 2
}
