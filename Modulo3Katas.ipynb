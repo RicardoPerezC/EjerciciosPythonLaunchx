{
 "cells": [
  {
   "cell_type": "markdown",
   "metadata": {},
   "source": [
    "# Ejercicio 1"
   ]
  },
  {
   "cell_type": "code",
   "execution_count": 25,
   "metadata": {},
   "outputs": [
    {
     "name": "stdout",
     "output_type": "stream",
     "text": [
      "Atención se detecta un asteroide!\n",
      "Peligro asterioide cerca a 100 km/s\n"
     ]
    }
   ],
   "source": [
    "# Añadir el código necesario para crear una variable que guarde la velocidad del asteroide.\n",
    "captura_velocidad = input(\"introduzca la velocidad del asteroide (default=25km/s\")\n",
    "#print(\"is a number: \"+str(captura_velocidad.isdigit()))\n",
    "if captura_velocidad.isdigit():\n",
    "    if len(captura_velocidad) <= 0:\n",
    "        velocidad_asteroide = 25\n",
    "    else:\n",
    "        velocidad_asteroide = int(captura_velocidad)\n",
    "    # Escribe una expresión de prueba para calcular si necesita una advertencia.\n",
    "    if velocidad_asteroide > 25:\n",
    "        print(\"Atención se detecta un asteroide!\")\n",
    "        if velocidad_asteroide >= 49:\n",
    "            print(\"Peligro asterioide cerca a \"+str(velocidad_asteroide)+\" km/s\")\n",
    "        else:\n",
    "            print(\"falsa alarma velocidad \"+str(velocidad_asteroide)+\" km/s\")\n",
    "    else:\n",
    "        print(\"nada que reportar....\")\n",
    "    # Agregue las instrucciones que se ejecutarán si la expresión de prueba es true o false.\n",
    "else:\n",
    "    print(\"ERROR: solo es permitido numeros.....Salida del programa\")"
   ]
  },
  {
   "cell_type": "markdown",
   "metadata": {},
   "source": [
    "# Ejercicio 2"
   ]
  },
  {
   "cell_type": "code",
   "execution_count": 44,
   "metadata": {},
   "outputs": [
    {
     "name": "stdout",
     "output_type": "stream",
     "text": [
      "se produce un rayo de luz\n",
      "velocidad alta peligro\n"
     ]
    }
   ],
   "source": [
    "# Agrega el código para crear una variable para un asteroide que viaja a 19 km/s\n",
    "velocidad_asteroide = 50\n",
    "# Escribe varias expresiones de prueba para determinar si puedes ver el rayo de luz desde la tierra\n",
    "if velocidad_asteroide >= 50:\n",
    "    print(\"se produce un rayo de luz\")\n",
    "    print(\"velocidad alta peligro\")\n",
    "elif velocidad_asteroide >= 20:\n",
    "    print(\"se produce un rayo de luz\")\n",
    "else:\n",
    "    print(\"nada que reportar...\")\n",
    "# Agrega las instrucciones que se ejecutarán si las expresiones de prueba son True o False"
   ]
  },
  {
   "cell_type": "markdown",
   "metadata": {},
   "source": [
    "# Ejercicio 3"
   ]
  },
  {
   "cell_type": "code",
   "execution_count": 48,
   "metadata": {},
   "outputs": [
    {
     "name": "stdout",
     "output_type": "stream",
     "text": [
      "Se produce un rayo de luz\n"
     ]
    }
   ],
   "source": [
    "velocidad_asteroide = 25\n",
    "tamano_asteroide = 40\n",
    "if velocidad_asteroide > 25 and tamano_asteroide > 25:\n",
    "    print('Peligro, Un asteroide va hacia la Tierra!')\n",
    "elif velocidad_asteroide >= 20:\n",
    "    print('Se produce un rayo de luz')\n",
    "elif tamano_asteroide < 25:\n",
    "    print('nada que reportar...')\n",
    "else:\n",
    "    print('nada que reportar...')"
   ]
  }
 ],
 "metadata": {
  "interpreter": {
   "hash": "334bca2f96779d3987b7ca601bc6420dd9d772670df5bc915f81c87e9e1c4b9f"
  },
  "kernelspec": {
   "display_name": "Python 3.9.10 ('.venv': venv)",
   "language": "python",
   "name": "python3"
  },
  "language_info": {
   "codemirror_mode": {
    "name": "ipython",
    "version": 3
   },
   "file_extension": ".py",
   "mimetype": "text/x-python",
   "name": "python",
   "nbconvert_exporter": "python",
   "pygments_lexer": "ipython3",
   "version": "3.9.10"
  },
  "orig_nbformat": 4
 },
 "nbformat": 4,
 "nbformat_minor": 2
}
