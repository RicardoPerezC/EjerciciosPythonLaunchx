{
 "cells": [
  {
   "cell_type": "markdown",
   "metadata": {},
   "source": [
    "Usted> Señora, le presento el programa que muestra la hora para su aprobación"
   ]
  },
  {
   "cell_type": "code",
   "execution_count": 15,
   "metadata": {},
   "outputs": [
    {
     "name": "stdout",
     "output_type": "stream",
     "text": [
      "Today's date is:2022-02-07\n",
      "el dia es:7\n",
      "el mes es:2\n",
      "el año es:2022\n",
      "dia en texto: Monday\n",
      "fecha: Monday 7/2/2022\n"
     ]
    }
   ],
   "source": [
    "from datetime import date\n",
    "import calendar\n",
    "#publica la hora en la consola\n",
    "print(\"Today's date is:\"+str(date.today()))\n",
    "fechaHoy = date.today()\n",
    "print(\"el dia es:\"+str(fechaHoy.day))\n",
    "print(\"el mes es:\"+str(fechaHoy.month))\n",
    "print(\"el año es:\"+str(fechaHoy.year))\n",
    "nombredia = calendar.day_name[fechaHoy.weekday()]\n",
    "print(\"dia en texto: \"+nombredia)  #mostrar el dia en texto\n",
    "print(\"fecha: \"+nombredia+\" \"+str(fechaHoy.day)+\"/\"+str(fechaHoy.month)+\"/\"+str(fechaHoy.year))"
   ]
  },
  {
   "cell_type": "markdown",
   "metadata": {},
   "source": [
    "Señora le presento el programa de conversion entre parsecs y años luz\n",
    "quedo a la orden!"
   ]
  },
  {
   "cell_type": "code",
   "execution_count": 16,
   "metadata": {},
   "outputs": [
    {
     "name": "stdout",
     "output_type": "stream",
     "text": [
      "11 parsec, is 35.877159999999996 lightyears\n"
     ]
    }
   ],
   "source": [
    "parsec = 11\n",
    "lightyears = 3.26156 * parsec\n",
    "\n",
    "print(str(parsec) + \" parsec, is \" + str(lightyears) + \" lightyears\")"
   ]
  }
 ],
 "metadata": {
  "interpreter": {
   "hash": "334bca2f96779d3987b7ca601bc6420dd9d772670df5bc915f81c87e9e1c4b9f"
  },
  "kernelspec": {
   "display_name": "Python 3.9.10 ('.venv': venv)",
   "language": "python",
   "name": "python3"
  },
  "language_info": {
   "codemirror_mode": {
    "name": "ipython",
    "version": 3
   },
   "file_extension": ".py",
   "mimetype": "text/x-python",
   "name": "python",
   "nbconvert_exporter": "python",
   "pygments_lexer": "ipython3",
   "version": "3.9.10"
  },
  "orig_nbformat": 4
 },
 "nbformat": 4,
 "nbformat_minor": 2
}
